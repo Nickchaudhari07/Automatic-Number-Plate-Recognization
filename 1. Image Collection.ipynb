{
 "cells": [
  {
   "cell_type": "markdown",
   "metadata": {},
   "source": [
    "# 1. Import Dependencies"
   ]
  },
  {
   "cell_type": "code",
   "execution_count": 1,
   "metadata": {},
   "outputs": [
    {
     "name": "stdout",
     "output_type": "stream",
     "text": [
      "Collecting opencv-python\n",
      "  Using cached opencv_python-4.6.0.66-cp36-abi3-win_amd64.whl (35.6 MB)\n",
      "Collecting numpy>=1.17.3\n",
      "  Using cached numpy-1.23.5-cp310-cp310-win_amd64.whl (14.6 MB)\n",
      "Installing collected packages: numpy, opencv-python\n",
      "Successfully installed numpy-1.23.5 opencv-python-4.6.0.66\n"
     ]
    }
   ],
   "source": [
    "!pip install opencv-python"
   ]
  },
  {
   "cell_type": "code",
   "execution_count": 3,
   "metadata": {},
   "outputs": [],
   "source": [
    "# Import opencv\n",
    "import cv2 \n",
    "\n",
    "# Import uuid\n",
    "import uuid\n",
    "\n",
    "# Import Operating System\n",
    "import os\n",
    "\n",
    "# Import time\n",
    "import time"
   ]
  },
  {
   "cell_type": "markdown",
   "metadata": {},
   "source": [
    "# 2. Define Images to Collect"
   ]
  },
  {
   "cell_type": "code",
   "execution_count": 8,
   "metadata": {},
   "outputs": [],
   "source": [
    "labels = ['Number_Plate']\n",
    "number_imgs = 20"
   ]
  },
  {
   "cell_type": "markdown",
   "metadata": {},
   "source": [
    "# 3. Setup Folders "
   ]
  },
  {
   "cell_type": "code",
   "execution_count": 9,
   "metadata": {},
   "outputs": [],
   "source": [
    "IMAGES_PATH = os.path.join('Tensorflow', 'workspace', 'images', 'collectedimages')"
   ]
  },
  {
   "cell_type": "code",
   "execution_count": 10,
   "metadata": {},
   "outputs": [],
   "source": [
    "if not os.path.exists(IMAGES_PATH):\n",
    "    if os.name == 'posix':\n",
    "        !mkdir -p {IMAGES_PATH}\n",
    "    if os.name == 'nt':\n",
    "         !mkdir {IMAGES_PATH}\n",
    "for label in labels:\n",
    "    path = os.path.join(IMAGES_PATH, label)\n",
    "    if not os.path.exists(path):\n",
    "        !mkdir {path}"
   ]
  },
  {
   "cell_type": "markdown",
   "metadata": {},
   "source": [
    "# 4. Capture Images"
   ]
  },
  {
   "cell_type": "markdown",
   "metadata": {},
   "source": [
    "for label in labels:\n",
    "    cap = cv2.VideoCapture(0)    #connect us with our web cam or camera\n",
    "    print('Collecting images for {}'.format(label))\n",
    "    time.sleep(5)\n",
    "    for imgnum in range(number_imgs):\n",
    "        print('Collecting image {}'.format(imgnum))\n",
    "        ret, frame = cap.read()\n",
    "        imgname = os.path.join(IMAGES_PATH,label,label+'.'+'{}.jpg'.format(str(uuid.uuid1())))\n",
    "        cv2.imwrite(imgname, frame)\n",
    "        cv2.imshow('frame', frame)\n",
    "        time.sleep(2)\n",
    "\n",
    "        if cv2.waitKey(1) & 0xFF == ord('q'):\n",
    "            break\n",
    "cap.release()\n",
    "cv2.destroyAllWindows()"
   ]
  },
  {
   "cell_type": "markdown",
   "metadata": {},
   "source": [
    "# 5. Image Labelling"
   ]
  },
  {
   "cell_type": "code",
   "execution_count": 11,
   "metadata": {},
   "outputs": [
    {
     "name": "stdout",
     "output_type": "stream",
     "text": [
      "Collecting pyqt5\n",
      "  Downloading PyQt5-5.15.7-cp37-abi3-win_amd64.whl (6.8 MB)\n",
      "     ---------------------------------------- 6.8/6.8 MB 188.9 kB/s eta 0:00:00\n",
      "Collecting lxml\n",
      "  Downloading lxml-4.9.2-cp310-cp310-win_amd64.whl (3.8 MB)\n",
      "     ---------------------------------------- 3.8/3.8 MB 88.9 kB/s eta 0:00:00\n",
      "Collecting PyQt5-Qt5>=5.15.0\n",
      "  Downloading PyQt5_Qt5-5.15.2-py3-none-win_amd64.whl (50.1 MB)\n",
      "     -------------------------------------- 50.1/50.1 MB 148.8 kB/s eta 0:00:00\n",
      "Collecting PyQt5-sip<13,>=12.11\n",
      "  Downloading PyQt5_sip-12.11.0-cp310-cp310-win_amd64.whl (78 kB)\n",
      "     -------------------------------------- 78.3/78.3 kB 174.5 kB/s eta 0:00:00\n",
      "Installing collected packages: PyQt5-Qt5, PyQt5-sip, lxml, pyqt5\n",
      "Successfully installed PyQt5-Qt5-5.15.2 PyQt5-sip-12.11.0 lxml-4.9.2 pyqt5-5.15.7\n"
     ]
    },
    {
     "name": "stderr",
     "output_type": "stream",
     "text": [
      "WARNING: Retrying (Retry(total=4, connect=None, read=None, redirect=None, status=None)) after connection broken by 'ProtocolError('Connection aborted.', RemoteDisconnected('Remote end closed connection without response'))': /simple/pyqt5-sip/\n"
     ]
    }
   ],
   "source": [
    "!pip install --upgrade pyqt5 lxml"
   ]
  },
  {
   "cell_type": "code",
   "execution_count": 12,
   "metadata": {},
   "outputs": [
    {
     "name": "stdout",
     "output_type": "stream",
     "text": [
      "Package                  Version\n",
      "------------------------ -----------\n",
      "anyio                    3.6.2\n",
      "argon2-cffi              21.3.0\n",
      "argon2-cffi-bindings     21.2.0\n",
      "arrow                    1.2.3\n",
      "asttokens                2.2.1\n",
      "attrs                    22.1.0\n",
      "backcall                 0.2.0\n",
      "beautifulsoup4           4.11.1\n",
      "bleach                   5.0.1\n",
      "cffi                     1.15.1\n",
      "colorama                 0.4.6\n",
      "comm                     0.1.2\n",
      "debugpy                  1.6.4\n",
      "decorator                5.1.1\n",
      "defusedxml               0.7.1\n",
      "entrypoints              0.4\n",
      "executing                1.2.0\n",
      "fastjsonschema           2.16.2\n",
      "fqdn                     1.5.1\n",
      "idna                     3.4\n",
      "ipykernel                6.19.2\n",
      "ipython                  8.7.0\n",
      "ipython-genutils         0.2.0\n",
      "isoduration              20.11.0\n",
      "jedi                     0.18.2\n",
      "Jinja2                   3.1.2\n",
      "jsonpointer              2.3\n",
      "jsonschema               4.17.3\n",
      "jupyter_client           7.4.8\n",
      "jupyter_core             5.1.0\n",
      "jupyter-events           0.5.0\n",
      "jupyter_server           2.0.1\n",
      "jupyter_server_terminals 0.4.2\n",
      "jupyterlab-pygments      0.2.2\n",
      "lxml                     4.9.2\n",
      "MarkupSafe               2.1.1\n",
      "matplotlib-inline        0.1.6\n",
      "mistune                  2.0.4\n",
      "nbclassic                0.4.8\n",
      "nbclient                 0.7.2\n",
      "nbconvert                7.2.6\n",
      "nbformat                 5.7.0\n",
      "nest-asyncio             1.5.6\n",
      "notebook                 6.5.2\n",
      "notebook_shim            0.2.2\n",
      "numpy                    1.23.5\n",
      "opencv-python            4.6.0.66\n",
      "packaging                22.0\n",
      "pandocfilters            1.5.0\n",
      "parso                    0.8.3\n",
      "pickleshare              0.7.5\n",
      "pip                      22.3.1\n",
      "platformdirs             2.6.0\n",
      "prometheus-client        0.15.0\n",
      "prompt-toolkit           3.0.36\n",
      "psutil                   5.9.4\n",
      "pure-eval                0.2.2\n",
      "pycparser                2.21\n",
      "Pygments                 2.13.0\n",
      "PyQt5                    5.15.7\n",
      "PyQt5-Qt5                5.15.2\n",
      "PyQt5-sip                12.11.0\n",
      "pyrsistent               0.19.2\n",
      "python-dateutil          2.8.2\n",
      "python-json-logger       2.0.4\n",
      "pywin32                  305\n",
      "pywinpty                 2.0.9\n",
      "PyYAML                   6.0\n",
      "pyzmq                    24.0.1\n",
      "rfc3339-validator        0.1.4\n",
      "rfc3986-validator        0.1.1\n",
      "Send2Trash               1.8.0\n",
      "setuptools               65.5.0\n",
      "six                      1.16.0\n",
      "sniffio                  1.3.0\n",
      "soupsieve                2.3.2.post1\n",
      "stack-data               0.6.2\n",
      "terminado                0.17.1\n",
      "tinycss2                 1.2.1\n",
      "tornado                  6.2\n",
      "traitlets                5.7.1\n",
      "uri-template             1.2.0\n",
      "wcwidth                  0.2.5\n",
      "webcolors                1.12\n",
      "webencodings             0.5.1\n",
      "websocket-client         1.4.2\n"
     ]
    }
   ],
   "source": [
    "!pip list"
   ]
  },
  {
   "cell_type": "code",
   "execution_count": 13,
   "metadata": {},
   "outputs": [],
   "source": [
    "LABELIMG_PATH = os.path.join('Tensorflow', 'labelimg')"
   ]
  },
  {
   "cell_type": "code",
   "execution_count": 14,
   "metadata": {},
   "outputs": [
    {
     "name": "stderr",
     "output_type": "stream",
     "text": [
      "Cloning into 'Tensorflow\\labelimg'...\n"
     ]
    }
   ],
   "source": [
    "if not os.path.exists(LABELIMG_PATH):\n",
    "    !mkdir {LABELIMG_PATH}\n",
    "    !git clone https://github.com/tzutalin/labelImg {LABELIMG_PATH}"
   ]
  },
  {
   "cell_type": "code",
   "execution_count": 15,
   "metadata": {},
   "outputs": [],
   "source": [
    "if os.name == 'posix':\n",
    "    !cd {LABELIMG_PATH} && make qt5py3\n",
    "if os.name =='nt':\n",
    "    !cd {LABELIMG_PATH} && pyrcc5 -o libs/resources.py resources.qrc"
   ]
  },
  {
   "cell_type": "code",
   "execution_count": 16,
   "metadata": {},
   "outputs": [
    {
     "name": "stdout",
     "output_type": "stream",
     "text": [
      "Image:D:\\Tensorflow Object  Detection\\TFODCourse\\Tensorflow\\workspace\\images\\collectedimages\\Number_Plate\\1.jpg -> Annotation:D:/Tensorflow Object  Detection/TFODCourse/Tensorflow/workspace/images/collectedimages/Number_Plate\\1.xml\n",
      "Image:D:\\Tensorflow Object  Detection\\TFODCourse\\Tensorflow\\workspace\\images\\collectedimages\\Number_Plate\\1.jpg -> Annotation:D:/Tensorflow Object  Detection/TFODCourse/Tensorflow/workspace/images/collectedimages/Number_Plate\\1.xml\n",
      "Image:D:\\Tensorflow Object  Detection\\TFODCourse\\Tensorflow\\workspace\\images\\collectedimages\\Number_Plate\\1.jpg -> Annotation:D:/Tensorflow Object  Detection/TFODCourse/Tensorflow/workspace/images/collectedimages/Number_Plate\\1.xml\n",
      "Cancel creation.\n",
      "Cancel creation.\n",
      "Image:D:\\Tensorflow Object  Detection\\TFODCourse\\Tensorflow\\workspace\\images\\collectedimages\\Number_Plate\\2.jpg -> Annotation:D:/Tensorflow Object  Detection/TFODCourse/Tensorflow/workspace/images/collectedimages/Number_Plate\\2.xml\n",
      "Cancel creation.\n",
      "Cancel creation.\n",
      "Image:D:\\Tensorflow Object  Detection\\TFODCourse\\Tensorflow\\workspace\\images\\collectedimages\\Number_Plate\\3.jpg -> Annotation:D:/Tensorflow Object  Detection/TFODCourse/Tensorflow/workspace/images/collectedimages/Number_Plate\\3.xml\n",
      "Cancel creation.\n",
      "Image:D:\\Tensorflow Object  Detection\\TFODCourse\\Tensorflow\\workspace\\images\\collectedimages\\Number_Plate\\4.jpg -> Annotation:D:/Tensorflow Object  Detection/TFODCourse/Tensorflow/workspace/images/collectedimages/Number_Plate\\4.xml\n",
      "Cancel creation.\n",
      "Cancel creation.\n",
      "Image:D:\\Tensorflow Object  Detection\\TFODCourse\\Tensorflow\\workspace\\images\\collectedimages\\Number_Plate\\5.jpg -> Annotation:D:/Tensorflow Object  Detection/TFODCourse/Tensorflow/workspace/images/collectedimages/Number_Plate\\5.xml\n",
      "Image:D:\\Tensorflow Object  Detection\\TFODCourse\\Tensorflow\\workspace\\images\\collectedimages\\Number_Plate\\6.jpg -> Annotation:D:/Tensorflow Object  Detection/TFODCourse/Tensorflow/workspace/images/collectedimages/Number_Plate\\6.xml\n",
      "Image:D:\\Tensorflow Object  Detection\\TFODCourse\\Tensorflow\\workspace\\images\\collectedimages\\Number_Plate\\7.jpg -> Annotation:D:/Tensorflow Object  Detection/TFODCourse/Tensorflow/workspace/images/collectedimages/Number_Plate\\7.xml\n",
      "Image:D:\\Tensorflow Object  Detection\\TFODCourse\\Tensorflow\\workspace\\images\\collectedimages\\Number_Plate\\8.jpg -> Annotation:D:/Tensorflow Object  Detection/TFODCourse/Tensorflow/workspace/images/collectedimages/Number_Plate\\8.xml\n",
      "Image:D:\\Tensorflow Object  Detection\\TFODCourse\\Tensorflow\\workspace\\images\\collectedimages\\Number_Plate\\9.jpg -> Annotation:D:/Tensorflow Object  Detection/TFODCourse/Tensorflow/workspace/images/collectedimages/Number_Plate\\9.xml\n",
      "Image:D:\\Tensorflow Object  Detection\\TFODCourse\\Tensorflow\\workspace\\images\\collectedimages\\Number_Plate\\10.jpg -> Annotation:D:/Tensorflow Object  Detection/TFODCourse/Tensorflow/workspace/images/collectedimages/Number_Plate\\10.xml\n",
      "Image:D:\\Tensorflow Object  Detection\\TFODCourse\\Tensorflow\\workspace\\images\\collectedimages\\Number_Plate\\11.jpg -> Annotation:D:/Tensorflow Object  Detection/TFODCourse/Tensorflow/workspace/images/collectedimages/Number_Plate\\11.xml\n",
      "Cancel creation.\n",
      "Cancel creation.\n",
      "Image:D:\\Tensorflow Object  Detection\\TFODCourse\\Tensorflow\\workspace\\images\\collectedimages\\Number_Plate\\12.jpg -> Annotation:D:/Tensorflow Object  Detection/TFODCourse/Tensorflow/workspace/images/collectedimages/Number_Plate\\12.xml\n",
      "Image:D:\\Tensorflow Object  Detection\\TFODCourse\\Tensorflow\\workspace\\images\\collectedimages\\Number_Plate\\13.jpg -> Annotation:D:/Tensorflow Object  Detection/TFODCourse/Tensorflow/workspace/images/collectedimages/Number_Plate\\13.xml\n",
      "Image:D:\\Tensorflow Object  Detection\\TFODCourse\\Tensorflow\\workspace\\images\\collectedimages\\Number_Plate\\14.jpg -> Annotation:D:/Tensorflow Object  Detection/TFODCourse/Tensorflow/workspace/images/collectedimages/Number_Plate\\14.xml\n",
      "Image:D:\\Tensorflow Object  Detection\\TFODCourse\\Tensorflow\\workspace\\images\\collectedimages\\Number_Plate\\15.jpg -> Annotation:D:/Tensorflow Object  Detection/TFODCourse/Tensorflow/workspace/images/collectedimages/Number_Plate\\15.xml\n",
      "Image:D:\\Tensorflow Object  Detection\\TFODCourse\\Tensorflow\\workspace\\images\\collectedimages\\Number_Plate\\16.jpg -> Annotation:D:/Tensorflow Object  Detection/TFODCourse/Tensorflow/workspace/images/collectedimages/Number_Plate\\16.xml\n",
      "Image:D:\\Tensorflow Object  Detection\\TFODCourse\\Tensorflow\\workspace\\images\\collectedimages\\Number_Plate\\17.jpg -> Annotation:D:/Tensorflow Object  Detection/TFODCourse/Tensorflow/workspace/images/collectedimages/Number_Plate\\17.xml\n",
      "Image:D:\\Tensorflow Object  Detection\\TFODCourse\\Tensorflow\\workspace\\images\\collectedimages\\Number_Plate\\18.jpg -> Annotation:D:/Tensorflow Object  Detection/TFODCourse/Tensorflow/workspace/images/collectedimages/Number_Plate\\18.xml\n",
      "Cancel creation.\n",
      "Image:D:\\Tensorflow Object  Detection\\TFODCourse\\Tensorflow\\workspace\\images\\collectedimages\\Number_Plate\\19.jpg -> Annotation:D:/Tensorflow Object  Detection/TFODCourse/Tensorflow/workspace/images/collectedimages/Number_Plate\\19.xml\n",
      "Cancel creation.\n",
      "Image:D:\\Tensorflow Object  Detection\\TFODCourse\\Tensorflow\\workspace\\images\\collectedimages\\Number_Plate\\20.jpg -> Annotation:D:/Tensorflow Object  Detection/TFODCourse/Tensorflow/workspace/images/collectedimages/Number_Plate\\20.xml\n",
      "Cancel creation.\n",
      "Image:D:\\Tensorflow Object  Detection\\TFODCourse\\Tensorflow\\workspace\\images\\collectedimages\\Number_Plate\\21.jpg -> Annotation:D:/Tensorflow Object  Detection/TFODCourse/Tensorflow/workspace/images/collectedimages/Number_Plate\\21.xml\n",
      "Image:D:\\Tensorflow Object  Detection\\TFODCourse\\Tensorflow\\workspace\\images\\collectedimages\\Number_Plate\\22.jpg -> Annotation:D:/Tensorflow Object  Detection/TFODCourse/Tensorflow/workspace/images/collectedimages/Number_Plate\\22.xml\n",
      "Cancel creation.\n",
      "Image:D:\\Tensorflow Object  Detection\\TFODCourse\\Tensorflow\\workspace\\images\\collectedimages\\Number_Plate\\23.jpg -> Annotation:D:/Tensorflow Object  Detection/TFODCourse/Tensorflow/workspace/images/collectedimages/Number_Plate\\23.xml\n",
      "Image:D:\\Tensorflow Object  Detection\\TFODCourse\\Tensorflow\\workspace\\images\\collectedimages\\Number_Plate\\24.jpg -> Annotation:D:/Tensorflow Object  Detection/TFODCourse/Tensorflow/workspace/images/collectedimages/Number_Plate\\24.xml\n",
      "Image:D:\\Tensorflow Object  Detection\\TFODCourse\\Tensorflow\\workspace\\images\\collectedimages\\Number_Plate\\25.jpg -> Annotation:D:/Tensorflow Object  Detection/TFODCourse/Tensorflow/workspace/images/collectedimages/Number_Plate\\25.xml\n",
      "Cancel creation.\n",
      "Image:D:\\Tensorflow Object  Detection\\TFODCourse\\Tensorflow\\workspace\\images\\collectedimages\\Number_Plate\\26.jpg -> Annotation:D:/Tensorflow Object  Detection/TFODCourse/Tensorflow/workspace/images/collectedimages/Number_Plate\\26.xml\n",
      "Cancel creation.\n",
      "Image:D:\\Tensorflow Object  Detection\\TFODCourse\\Tensorflow\\workspace\\images\\collectedimages\\Number_Plate\\27.jpg -> Annotation:D:/Tensorflow Object  Detection/TFODCourse/Tensorflow/workspace/images/collectedimages/Number_Plate\\27.xml\n",
      "Image:D:\\Tensorflow Object  Detection\\TFODCourse\\Tensorflow\\workspace\\images\\collectedimages\\Number_Plate\\28.jpg -> Annotation:D:/Tensorflow Object  Detection/TFODCourse/Tensorflow/workspace/images/collectedimages/Number_Plate\\28.xml\n",
      "Cancel creation.\n",
      "Image:D:\\Tensorflow Object  Detection\\TFODCourse\\Tensorflow\\workspace\\images\\collectedimages\\Number_Plate\\29.jpg -> Annotation:D:/Tensorflow Object  Detection/TFODCourse/Tensorflow/workspace/images/collectedimages/Number_Plate\\29.xml\n",
      "Cancel creation.\n",
      "Image:D:\\Tensorflow Object  Detection\\TFODCourse\\Tensorflow\\workspace\\images\\collectedimages\\Number_Plate\\30.jpg -> Annotation:D:/Tensorflow Object  Detection/TFODCourse/Tensorflow/workspace/images/collectedimages/Number_Plate\\30.xml\n",
      "Image:D:\\Tensorflow Object  Detection\\TFODCourse\\Tensorflow\\workspace\\images\\collectedimages\\Number_Plate\\31.jpg -> Annotation:D:/Tensorflow Object  Detection/TFODCourse/Tensorflow/workspace/images/collectedimages/Number_Plate\\31.xml\n",
      "Image:D:\\Tensorflow Object  Detection\\TFODCourse\\Tensorflow\\workspace\\images\\collectedimages\\Number_Plate\\32.jpg -> Annotation:D:/Tensorflow Object  Detection/TFODCourse/Tensorflow/workspace/images/collectedimages/Number_Plate\\32.xml\n",
      "Image:D:\\Tensorflow Object  Detection\\TFODCourse\\Tensorflow\\workspace\\images\\collectedimages\\Number_Plate\\33.jpg -> Annotation:D:/Tensorflow Object  Detection/TFODCourse/Tensorflow/workspace/images/collectedimages/Number_Plate\\33.xml\n",
      "Cancel creation.\n",
      "Image:D:\\Tensorflow Object  Detection\\TFODCourse\\Tensorflow\\workspace\\images\\collectedimages\\Number_Plate\\34.jpg -> Annotation:D:/Tensorflow Object  Detection/TFODCourse/Tensorflow/workspace/images/collectedimages/Number_Plate\\34.xml\n",
      "Image:D:\\Tensorflow Object  Detection\\TFODCourse\\Tensorflow\\workspace\\images\\collectedimages\\Number_Plate\\35.jpg -> Annotation:D:/Tensorflow Object  Detection/TFODCourse/Tensorflow/workspace/images/collectedimages/Number_Plate\\35.xml\n",
      "Image:D:\\Tensorflow Object  Detection\\TFODCourse\\Tensorflow\\workspace\\images\\collectedimages\\Number_Plate\\36.jpg -> Annotation:D:/Tensorflow Object  Detection/TFODCourse/Tensorflow/workspace/images/collectedimages/Number_Plate\\36.xml\n",
      "Cancel creation.\n",
      "Image:D:\\Tensorflow Object  Detection\\TFODCourse\\Tensorflow\\workspace\\images\\collectedimages\\Number_Plate\\37.jpg -> Annotation:D:/Tensorflow Object  Detection/TFODCourse/Tensorflow/workspace/images/collectedimages/Number_Plate\\37.xml\n",
      "Image:D:\\Tensorflow Object  Detection\\TFODCourse\\Tensorflow\\workspace\\images\\collectedimages\\Number_Plate\\38.jpg -> Annotation:D:/Tensorflow Object  Detection/TFODCourse/Tensorflow/workspace/images/collectedimages/Number_Plate\\38.xml\n",
      "Image:D:\\Tensorflow Object  Detection\\TFODCourse\\Tensorflow\\workspace\\images\\collectedimages\\Number_Plate\\39.jpg -> Annotation:D:/Tensorflow Object  Detection/TFODCourse/Tensorflow/workspace/images/collectedimages/Number_Plate\\39.xml\n",
      "Image:D:\\Tensorflow Object  Detection\\TFODCourse\\Tensorflow\\workspace\\images\\collectedimages\\Number_Plate\\40.jpg -> Annotation:D:/Tensorflow Object  Detection/TFODCourse/Tensorflow/workspace/images/collectedimages/Number_Plate\\40.xml\n",
      "Image:D:\\Tensorflow Object  Detection\\TFODCourse\\Tensorflow\\workspace\\images\\collectedimages\\Number_Plate\\41.jpg -> Annotation:D:/Tensorflow Object  Detection/TFODCourse/Tensorflow/workspace/images/collectedimages/Number_Plate\\41.xml\n",
      "Image:D:\\Tensorflow Object  Detection\\TFODCourse\\Tensorflow\\workspace\\images\\collectedimages\\Number_Plate\\42.jpg -> Annotation:D:/Tensorflow Object  Detection/TFODCourse/Tensorflow/workspace/images/collectedimages/Number_Plate\\42.xml\n",
      "Image:D:\\Tensorflow Object  Detection\\TFODCourse\\Tensorflow\\workspace\\images\\collectedimages\\Number_Plate\\43.jpg -> Annotation:D:/Tensorflow Object  Detection/TFODCourse/Tensorflow/workspace/images/collectedimages/Number_Plate\\43.xml\n",
      "Cancel creation.\n",
      "Image:D:\\Tensorflow Object  Detection\\TFODCourse\\Tensorflow\\workspace\\images\\collectedimages\\Number_Plate\\44.jpg -> Annotation:D:/Tensorflow Object  Detection/TFODCourse/Tensorflow/workspace/images/collectedimages/Number_Plate\\44.xml\n",
      "Image:D:\\Tensorflow Object  Detection\\TFODCourse\\Tensorflow\\workspace\\images\\collectedimages\\Number_Plate\\45.jpg -> Annotation:D:/Tensorflow Object  Detection/TFODCourse/Tensorflow/workspace/images/collectedimages/Number_Plate\\45.xml\n",
      "Image:D:\\Tensorflow Object  Detection\\TFODCourse\\Tensorflow\\workspace\\images\\collectedimages\\Number_Plate\\46.jpg -> Annotation:D:/Tensorflow Object  Detection/TFODCourse/Tensorflow/workspace/images/collectedimages/Number_Plate\\46.xml\n",
      "Image:D:\\Tensorflow Object  Detection\\TFODCourse\\Tensorflow\\workspace\\images\\collectedimages\\Number_Plate\\47.jpg -> Annotation:D:/Tensorflow Object  Detection/TFODCourse/Tensorflow/workspace/images/collectedimages/Number_Plate\\47.xml\n",
      "Image:D:\\Tensorflow Object  Detection\\TFODCourse\\Tensorflow\\workspace\\images\\collectedimages\\Number_Plate\\48.jpg -> Annotation:D:/Tensorflow Object  Detection/TFODCourse/Tensorflow/workspace/images/collectedimages/Number_Plate\\48.xml\n",
      "Cancel creation.\n",
      "Image:D:\\Tensorflow Object  Detection\\TFODCourse\\Tensorflow\\workspace\\images\\collectedimages\\Number_Plate\\49.jpg -> Annotation:D:/Tensorflow Object  Detection/TFODCourse/Tensorflow/workspace/images/collectedimages/Number_Plate\\49.xml\n",
      "Image:D:\\Tensorflow Object  Detection\\TFODCourse\\Tensorflow\\workspace\\images\\collectedimages\\Number_Plate\\50.jpg -> Annotation:D:/Tensorflow Object  Detection/TFODCourse/Tensorflow/workspace/images/collectedimages/Number_Plate\\50.xml\n"
     ]
    }
   ],
   "source": [
    "!cd {LABELIMG_PATH} && python labelImg.py"
   ]
  },
  {
   "cell_type": "markdown",
   "metadata": {},
   "source": [
    "# 6. Move them into a Training and Testing Partition"
   ]
  },
  {
   "cell_type": "markdown",
   "metadata": {},
   "source": [
    "# OPTIONAL - 7. Compress them for Colab Training"
   ]
  },
  {
   "cell_type": "code",
   "execution_count": 20,
   "metadata": {},
   "outputs": [],
   "source": [
    "TRAIN_PATH = os.path.join('Tensorflow', 'workspace', 'images', 'train')\n",
    "TEST_PATH = os.path.join('Tensorflow', 'workspace', 'images', 'test')\n",
    "ARCHIVE_PATH = os.path.join('Tensorflow', 'workspace', 'images', 'archive.tar.gz')"
   ]
  },
  {
   "cell_type": "code",
   "execution_count": 21,
   "metadata": {},
   "outputs": [],
   "source": [
    "!tar -czf {ARCHIVE_PATH} {TRAIN_PATH} {TEST_PATH}"
   ]
  },
  {
   "cell_type": "code",
   "execution_count": null,
   "metadata": {},
   "outputs": [],
   "source": []
  }
 ],
 "metadata": {
  "kernelspec": {
   "display_name": "tfod",
   "language": "python",
   "name": "tfod"
  },
  "language_info": {
   "codemirror_mode": {
    "name": "ipython",
    "version": 3
   },
   "file_extension": ".py",
   "mimetype": "text/x-python",
   "name": "python",
   "nbconvert_exporter": "python",
   "pygments_lexer": "ipython3",
   "version": "3.10.9"
  }
 },
 "nbformat": 4,
 "nbformat_minor": 2
}
